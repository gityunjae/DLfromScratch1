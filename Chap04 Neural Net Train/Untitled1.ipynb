{
  "nbformat": 4,
  "nbformat_minor": 0,
  "metadata": {
    "colab": {
      "name": "Untitled1.ipynb",
      "provenance": [],
      "authorship_tag": "ABX9TyOSSFlZzqqbA5fjSmP4UPU7"
    },
    "kernelspec": {
      "name": "python3",
      "display_name": "Python 3"
    }
  },
  "cells": [
    {
      "cell_type": "code",
      "metadata": {
        "id": "ttkRnxUzVqJR"
      },
      "source": [
        "def cross_entropy_error(y, t):\n",
        "  delta = 1e-7 # 로그의 결과가 -inf가 나오는 것을 방지하기 위해 아주 작은 값을 더해줌\n",
        "  return -np.sum(t*np.log(y+delta))"
      ],
      "execution_count": 1,
      "outputs": []
    },
    {
      "cell_type": "code",
      "metadata": {
        "id": "ERz4yTW-Vq0I",
        "outputId": "e1cd185c-7904-46e7-af3d-c99486e935a8",
        "colab": {
          "base_uri": "https://localhost:8080/"
        }
      },
      "source": [
        "import numpy as np\n",
        "\n",
        "# 정답은 2\n",
        "t = [0,0,1,0,0,0,0,0,0,0]\n",
        "\n",
        "# 출력값이 2\n",
        "y = [0.1, 0.05, 0.6, 0.0, 0.05, 0.1, 0.0, 0.1, 0.0, 0.0]\n",
        "print(cross_entropy_error(np.array(y), np.array(t)))\n",
        "\n",
        "# 출력값이 7\n",
        "y = [0.1, 0.05, 0.1, 0.0, 0.05, 0.1, 0.0, 0.6, 0.0, 0.0]\n",
        "print(cross_entropy_error(np.array(y), np.array(t)))"
      ],
      "execution_count": 2,
      "outputs": [
        {
          "output_type": "stream",
          "text": [
            "0.510825457099338\n",
            "2.302584092994546\n"
          ],
          "name": "stdout"
        }
      ]
    },
    {
      "cell_type": "markdown",
      "metadata": {
        "id": "mOcb3PhAWIt3"
      },
      "source": [
        "앞선 오차제곱합의 판단과 일치한다."
      ]
    }
  ]
}