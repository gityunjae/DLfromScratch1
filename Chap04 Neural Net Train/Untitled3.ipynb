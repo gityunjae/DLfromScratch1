{
  "nbformat": 4,
  "nbformat_minor": 0,
  "metadata": {
    "colab": {
      "name": "Untitled3.ipynb",
      "provenance": [],
      "authorship_tag": "ABX9TyMylxBZjXWskvrngMB6OGG+"
    },
    "kernelspec": {
      "name": "python3",
      "display_name": "Python 3"
    }
  },
  "cells": [
    {
      "cell_type": "code",
      "metadata": {
        "id": "ABB5GEODIBKD"
      },
      "source": [
        "def numerical_gradient(f,x):\n",
        "  h = 1e-4\n",
        "  grad = np.zeros_like(x)\n",
        "\n",
        "  for idx in range(x.size):\n",
        "    tmp_val = x[idx]\n",
        "    x[idx] = tmp_val + h\n",
        "    fxh1 = f(x) # f(x+h)\n",
        "    x[idx] = tmp_val - h\n",
        "    fxh2 = f(x) # f(x-h)\n",
        "\n",
        "    grad[idx] = (fxh1 - fxh2) / (2*h)\n",
        "    x[idx] = tmp_val\n",
        "\n",
        "  return grad"
      ],
      "execution_count": 1,
      "outputs": []
    },
    {
      "cell_type": "code",
      "metadata": {
        "id": "q1b2CCHzJXPp"
      },
      "source": [
        "def gradient_descent(f, init_x, lr=0.01, step_num=100):\n",
        "  x = init_x\n",
        "\n",
        "  for i in range(step_num):\n",
        "    grad = numerical_gradient(f, x)\n",
        "    x -= lr * grad\n",
        "  return x"
      ],
      "execution_count": 2,
      "outputs": []
    },
    {
      "cell_type": "code",
      "metadata": {
        "id": "ydxzJqVJTfYP"
      },
      "source": [
        "def func_2(x):\n",
        "  return x[0]**2 + x[1]**2"
      ],
      "execution_count": 3,
      "outputs": []
    },
    {
      "cell_type": "code",
      "metadata": {
        "id": "kZoGus8_T4iD"
      },
      "source": [
        "import numpy as np\n",
        "init_x = np.array([-3.0, 4.0])"
      ],
      "execution_count": 5,
      "outputs": []
    },
    {
      "cell_type": "code",
      "metadata": {
        "id": "8_ms7hNAT9Kh",
        "outputId": "4337c0d0-bc51-4263-a441-992eca206522",
        "colab": {
          "base_uri": "https://localhost:8080/"
        }
      },
      "source": [
        "gradient_descent(func_2, init_x = init_x, lr=0.1, step_num=100)"
      ],
      "execution_count": 6,
      "outputs": [
        {
          "output_type": "execute_result",
          "data": {
            "text/plain": [
              "array([-6.11110793e-10,  8.14814391e-10])"
            ]
          },
          "metadata": {
            "tags": []
          },
          "execution_count": 6
        }
      ]
    },
    {
      "cell_type": "code",
      "metadata": {
        "id": "QZlN3q0dUGFe",
        "outputId": "3e5dd9f2-f39b-4d40-a1fe-c24c3d6467b1",
        "colab": {
          "base_uri": "https://localhost:8080/"
        }
      },
      "source": [
        "# learning rate example\n",
        "init_x = np.array([-3.0, 4.0])\n",
        "print(gradient_descent(func_2, init_x = init_x, lr=10.0, step_num=100))\n",
        "\n",
        "init_x = np.array([-3.0, 4.0])\n",
        "print(gradient_descent(func_2, init_x = init_x, lr=1e-10, step_num=100))"
      ],
      "execution_count": 7,
      "outputs": [
        {
          "output_type": "stream",
          "text": [
            "[-2.58983747e+13 -1.29524862e+12]\n",
            "[-2.99999994  3.99999992]\n"
          ],
          "name": "stdout"
        }
      ]
    },
    {
      "cell_type": "code",
      "metadata": {
        "id": "k_mOXb6BWdYL"
      },
      "source": [
        ""
      ],
      "execution_count": null,
      "outputs": []
    }
  ]
}