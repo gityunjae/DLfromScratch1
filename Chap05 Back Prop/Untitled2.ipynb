{
  "nbformat": 4,
  "nbformat_minor": 0,
  "metadata": {
    "colab": {
      "name": "Untitled2.ipynb",
      "provenance": [],
      "authorship_tag": "ABX9TyMRnACH+dMHotImQbSKN5lG"
    },
    "kernelspec": {
      "name": "python3",
      "display_name": "Python 3"
    }
  },
  "cells": [
    {
      "cell_type": "code",
      "metadata": {
        "colab": {
          "base_uri": "https://localhost:8080/"
        },
        "id": "MF6N6XpZ_YUO",
        "outputId": "7ea90d7b-aec6-4749-b66f-1a4280a45846"
      },
      "source": [
        "import numpy as np\n",
        "# 간단한 행렬 곱 구하는 방법\n",
        "X = np.random.rand(2)\n",
        "W = np.random.rand(2,3)\n",
        "B = np.random.rand(3)\n",
        "\n",
        "print(X.shape)\n",
        "print(W.shape)\n",
        "print(B.shape)\n",
        "\n",
        "Y = np.dot(X, W) + B\n",
        "print(Y)"
      ],
      "execution_count": 3,
      "outputs": [
        {
          "output_type": "stream",
          "text": [
            "(2,)\n",
            "(2, 3)\n",
            "(3,)\n",
            "[0.52222876 0.65167925 0.55272039]\n"
          ],
          "name": "stdout"
        }
      ]
    },
    {
      "cell_type": "code",
      "metadata": {
        "colab": {
          "base_uri": "https://localhost:8080/"
        },
        "id": "_-Q_NOeD_-G4",
        "outputId": "d59fdb09-e6d1-4d4e-c7d0-2d1b8ef0601b"
      },
      "source": [
        "# 배치 단위 연산 시 편향 계산 예시\n",
        "X_dot_W = np.array([[0,0,0], [10,10,10]])\n",
        "B = np.array([1,2,3])\n",
        "\n",
        "print(X_dot_W)\n",
        "print(X_dot_W+B)"
      ],
      "execution_count": 4,
      "outputs": [
        {
          "output_type": "stream",
          "text": [
            "[[ 0  0  0]\n",
            " [10 10 10]]\n",
            "[[ 1  2  3]\n",
            " [11 12 13]]\n"
          ],
          "name": "stdout"
        }
      ]
    },
    {
      "cell_type": "code",
      "metadata": {
        "colab": {
          "base_uri": "https://localhost:8080/"
        },
        "id": "VHdcuZn4Iujb",
        "outputId": "86958d4e-4f20-4867-c627-9bf06fd1098b"
      },
      "source": [
        "dY = np.array([[1,2,3],[4,5,6]])\n",
        "print(dY)"
      ],
      "execution_count": 5,
      "outputs": [
        {
          "output_type": "stream",
          "text": [
            "[[1 2 3]\n",
            " [4 5 6]]\n"
          ],
          "name": "stdout"
        }
      ]
    },
    {
      "cell_type": "code",
      "metadata": {
        "colab": {
          "base_uri": "https://localhost:8080/"
        },
        "id": "ZEUfnzSnI6Oq",
        "outputId": "4425ef62-36de-4008-dd37-bdec55d7c46c"
      },
      "source": [
        "dB = np.sum(dY, axis=0)\n",
        "print(dB)"
      ],
      "execution_count": 8,
      "outputs": [
        {
          "output_type": "stream",
          "text": [
            "[5 7 9]\n"
          ],
          "name": "stdout"
        }
      ]
    },
    {
      "cell_type": "code",
      "metadata": {
        "id": "lXNwZlsOI8M9"
      },
      "source": [
        "class Affine:\n",
        "  def __init__(self, W, b):\n",
        "    self.W = W\n",
        "    self.b = b\n",
        "    self.x = None\n",
        "    self.dW = None\n",
        "    self.db = None\n",
        "\n",
        "  def forward(self, x):\n",
        "    self.x = x\n",
        "    out = np.dot(x, self.W)+self.b\n",
        "    return out\n",
        "\n",
        "  def backward(self, dout):\n",
        "    dx = np.dot(dout, self.W.T)\n",
        "    self.dW = np.dot(self.x.T, dout)\n",
        "    self.db = np.sum(dout, axis=0)\n",
        "    return dx"
      ],
      "execution_count": 9,
      "outputs": []
    },
    {
      "cell_type": "code",
      "metadata": {
        "id": "UrdHXzI8JeFp"
      },
      "source": [
        ""
      ],
      "execution_count": null,
      "outputs": []
    }
  ]
}