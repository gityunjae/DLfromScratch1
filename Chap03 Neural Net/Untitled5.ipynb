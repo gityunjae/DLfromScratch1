{
  "nbformat": 4,
  "nbformat_minor": 0,
  "metadata": {
    "colab": {
      "name": "Untitled5.ipynb",
      "provenance": [],
      "collapsed_sections": [],
      "authorship_tag": "ABX9TyOosg/TO1NUmgBBhjW5ncSL"
    },
    "kernelspec": {
      "name": "python3",
      "display_name": "Python 3"
    }
  },
  "cells": [
    {
      "cell_type": "code",
      "metadata": {
        "id": "e-MT3wRJ5AcN"
      },
      "source": [
        "import numpy as np"
      ],
      "execution_count": 2,
      "outputs": []
    },
    {
      "cell_type": "markdown",
      "metadata": {
        "id": "zGb1ZLzh4zck"
      },
      "source": [
        "편향과 활성화 함수 없이 가중치만 갖는 신경망 예시"
      ]
    },
    {
      "cell_type": "code",
      "metadata": {
        "id": "qVLZNU2l4vwZ",
        "outputId": "312351f3-28f7-4bb6-9193-b20ae0eaff8d",
        "colab": {
          "base_uri": "https://localhost:8080/"
        }
      },
      "source": [
        "X = np.array([1,2])\n",
        "X.shape"
      ],
      "execution_count": 3,
      "outputs": [
        {
          "output_type": "execute_result",
          "data": {
            "text/plain": [
              "(2,)"
            ]
          },
          "metadata": {
            "tags": []
          },
          "execution_count": 3
        }
      ]
    },
    {
      "cell_type": "code",
      "metadata": {
        "id": "Mb27aU2G49ZC",
        "outputId": "53b29030-35b3-497e-c647-c67a8b20c33a",
        "colab": {
          "base_uri": "https://localhost:8080/"
        }
      },
      "source": [
        "W = np.array([[1,3,5],[2,4,6]])\n",
        "W.shape"
      ],
      "execution_count": 6,
      "outputs": [
        {
          "output_type": "execute_result",
          "data": {
            "text/plain": [
              "(2, 3)"
            ]
          },
          "metadata": {
            "tags": []
          },
          "execution_count": 6
        }
      ]
    },
    {
      "cell_type": "code",
      "metadata": {
        "id": "8dMqvIEh5DZU",
        "outputId": "625f458b-164b-43c0-a8ef-950d0eec425b",
        "colab": {
          "base_uri": "https://localhost:8080/"
        }
      },
      "source": [
        "print(W)"
      ],
      "execution_count": 7,
      "outputs": [
        {
          "output_type": "stream",
          "text": [
            "[[1 3 5]\n",
            " [2 4 6]]\n"
          ],
          "name": "stdout"
        }
      ]
    },
    {
      "cell_type": "code",
      "metadata": {
        "id": "nFWJ70Vp5S1g"
      },
      "source": [
        "Y = np.dot(X,W)"
      ],
      "execution_count": 8,
      "outputs": []
    },
    {
      "cell_type": "code",
      "metadata": {
        "id": "zpxr6Qct5Van",
        "outputId": "7dc484b4-c938-4b4d-db83-ff4dc239c265",
        "colab": {
          "base_uri": "https://localhost:8080/"
        }
      },
      "source": [
        "print(Y)"
      ],
      "execution_count": 9,
      "outputs": [
        {
          "output_type": "stream",
          "text": [
            "[ 5 11 17]\n"
          ],
          "name": "stdout"
        }
      ]
    },
    {
      "cell_type": "code",
      "metadata": {
        "id": "Mvwxxim-5Wbf"
      },
      "source": [
        ""
      ],
      "execution_count": null,
      "outputs": []
    }
  ]
}