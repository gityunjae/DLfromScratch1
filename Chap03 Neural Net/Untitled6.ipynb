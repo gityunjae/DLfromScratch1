{
  "nbformat": 4,
  "nbformat_minor": 0,
  "metadata": {
    "colab": {
      "name": "Untitled6.ipynb",
      "provenance": [],
      "authorship_tag": "ABX9TyOUnL6pkjfI78aHAWrhnSUJ"
    },
    "kernelspec": {
      "name": "python3",
      "display_name": "Python 3"
    }
  },
  "cells": [
    {
      "cell_type": "code",
      "metadata": {
        "id": "f-Zl_H-QMB7X"
      },
      "source": [
        "import numpy as np"
      ],
      "execution_count": 2,
      "outputs": []
    },
    {
      "cell_type": "markdown",
      "metadata": {
        "id": "unrQaGD4N7OY"
      },
      "source": [
        "입력층 -> 1층"
      ]
    },
    {
      "cell_type": "code",
      "metadata": {
        "id": "FxIu6MfL6UY5",
        "outputId": "586103b9-c6c2-4476-fe4b-dc6d919aaec4",
        "colab": {
          "base_uri": "https://localhost:8080/"
        }
      },
      "source": [
        "X = np.array([1.0, 0.5])\n",
        "W1 = np.array([[0.1, 0.3, 0.5], [0.2, 0.4, 0.6]])\n",
        "B1 = np.array([0.1, 0.2, 0.3])\n",
        "\n",
        "print(W1.shape)\n",
        "print(X.shape)\n",
        "print(B1.shape)\n",
        "A1 = np.dot(X, W1) + B1"
      ],
      "execution_count": 4,
      "outputs": [
        {
          "output_type": "stream",
          "text": [
            "(2, 3)\n",
            "(2,)\n",
            "(3,)\n"
          ],
          "name": "stdout"
        }
      ]
    },
    {
      "cell_type": "code",
      "metadata": {
        "id": "Xd7b9U-QL8yi"
      },
      "source": [
        "def sigmoid(x):\n",
        "  return 1/(1+np.exp(-x))"
      ],
      "execution_count": 5,
      "outputs": []
    },
    {
      "cell_type": "code",
      "metadata": {
        "id": "EMnwagFdMiJQ",
        "outputId": "f361edb8-a354-4d05-8d94-12ffd1173e7c",
        "colab": {
          "base_uri": "https://localhost:8080/"
        }
      },
      "source": [
        "Z1 = sigmoid(A1)\n",
        "print(A1)\n",
        "print(Z1)"
      ],
      "execution_count": 6,
      "outputs": [
        {
          "output_type": "stream",
          "text": [
            "[0.3 0.7 1.1]\n",
            "[0.57444252 0.66818777 0.75026011]\n"
          ],
          "name": "stdout"
        }
      ]
    },
    {
      "cell_type": "markdown",
      "metadata": {
        "id": "LSSbsl85OBuh"
      },
      "source": [
        "1층 -> 2층"
      ]
    },
    {
      "cell_type": "code",
      "metadata": {
        "id": "Iagu3sTLNd_q",
        "outputId": "b931bc9d-59c3-46fe-b56b-313341a0c580",
        "colab": {
          "base_uri": "https://localhost:8080/"
        }
      },
      "source": [
        "W2 = np.array([[0.1, 0.4],[0.2, 0.5], [0.3, 0.6]])\n",
        "B2 = np.array([0.1, 0.2])\n",
        "print(Z1.shape)\n",
        "print(W2.shape)\n",
        "print(B2.shape)\n",
        "\n",
        "A2 = np.dot(Z1, W2) + B2\n",
        "Z2 = sigmoid(A2)"
      ],
      "execution_count": 7,
      "outputs": [
        {
          "output_type": "stream",
          "text": [
            "(3,)\n",
            "(3, 2)\n",
            "(2,)\n"
          ],
          "name": "stdout"
        }
      ]
    },
    {
      "cell_type": "markdown",
      "metadata": {
        "id": "_knMTIV8PIeq"
      },
      "source": [
        "2층 -> 출력층 ( 활성화 함수만 은닉층과 다름 )"
      ]
    },
    {
      "cell_type": "code",
      "metadata": {
        "id": "sw3nuy0POagx"
      },
      "source": [
        "def identity_function(x):\n",
        "  return x"
      ],
      "execution_count": 8,
      "outputs": []
    },
    {
      "cell_type": "code",
      "metadata": {
        "id": "s7MWzIckPFJ_"
      },
      "source": [
        "W3 = np.array([[0.1, 0.3], [0.2, 0.4]])\n",
        "B3 = np.array([0.1, 0.2])\n",
        "\n",
        "A3 = np.dot(Z2, W3) + B3\n",
        "Y = identity_function(A3)"
      ],
      "execution_count": 9,
      "outputs": []
    }
  ]
}