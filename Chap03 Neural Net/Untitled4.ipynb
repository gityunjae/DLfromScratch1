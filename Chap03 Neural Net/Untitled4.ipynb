{
  "nbformat": 4,
  "nbformat_minor": 0,
  "metadata": {
    "colab": {
      "name": "Untitled4.ipynb",
      "provenance": [],
      "collapsed_sections": [],
      "authorship_tag": "ABX9TyNe6Vwvr7Yda4pYcTUuiMYj"
    },
    "kernelspec": {
      "name": "python3",
      "display_name": "Python 3"
    }
  },
  "cells": [
    {
      "cell_type": "code",
      "metadata": {
        "id": "_Ze2yGHXzxR6"
      },
      "source": [
        "import numpy as np"
      ],
      "execution_count": 1,
      "outputs": []
    },
    {
      "cell_type": "markdown",
      "metadata": {
        "id": "OjYps_XI3iZI"
      },
      "source": [
        "1차원 행렬"
      ]
    },
    {
      "cell_type": "code",
      "metadata": {
        "id": "Z9PMJKnS1n_k",
        "outputId": "1c44a5ee-ea82-4288-8e4a-8854f56e9cb8",
        "colab": {
          "base_uri": "https://localhost:8080/"
        }
      },
      "source": [
        "A = np.array([1,2,3,4])\n",
        "print(A)"
      ],
      "execution_count": 2,
      "outputs": [
        {
          "output_type": "stream",
          "text": [
            "[1 2 3 4]\n"
          ],
          "name": "stdout"
        }
      ]
    },
    {
      "cell_type": "code",
      "metadata": {
        "id": "xYJDXjGw16FP",
        "outputId": "8ad0a47b-9948-4a92-f459-1eabcb6f49fd",
        "colab": {
          "base_uri": "https://localhost:8080/"
        }
      },
      "source": [
        "np.ndim(A)"
      ],
      "execution_count": 3,
      "outputs": [
        {
          "output_type": "execute_result",
          "data": {
            "text/plain": [
              "1"
            ]
          },
          "metadata": {
            "tags": []
          },
          "execution_count": 3
        }
      ]
    },
    {
      "cell_type": "code",
      "metadata": {
        "id": "HH3H9QvI17tR",
        "outputId": "71458398-4783-4a81-d9c1-d306658ee4db",
        "colab": {
          "base_uri": "https://localhost:8080/"
        }
      },
      "source": [
        "A.shape"
      ],
      "execution_count": 4,
      "outputs": [
        {
          "output_type": "execute_result",
          "data": {
            "text/plain": [
              "(4,)"
            ]
          },
          "metadata": {
            "tags": []
          },
          "execution_count": 4
        }
      ]
    },
    {
      "cell_type": "code",
      "metadata": {
        "id": "KhWDqdKZ19N_",
        "outputId": "54c44f21-b9c3-4cd4-c2e7-4621420a860a",
        "colab": {
          "base_uri": "https://localhost:8080/"
        }
      },
      "source": [
        "A.shape[0]"
      ],
      "execution_count": 5,
      "outputs": [
        {
          "output_type": "execute_result",
          "data": {
            "text/plain": [
              "4"
            ]
          },
          "metadata": {
            "tags": []
          },
          "execution_count": 5
        }
      ]
    },
    {
      "cell_type": "markdown",
      "metadata": {
        "id": "lA2jAi_a3muv"
      },
      "source": [
        "2차원 행렬"
      ]
    },
    {
      "cell_type": "code",
      "metadata": {
        "id": "gpzEUQFE1-Pt",
        "outputId": "380f4ab8-7744-4272-9231-bf60661c293c",
        "colab": {
          "base_uri": "https://localhost:8080/"
        }
      },
      "source": [
        "B = np.array([[1,2], [3,4], [5,6]])\n",
        "print(B)"
      ],
      "execution_count": 6,
      "outputs": [
        {
          "output_type": "stream",
          "text": [
            "[[1 2]\n",
            " [3 4]\n",
            " [5 6]]\n"
          ],
          "name": "stdout"
        }
      ]
    },
    {
      "cell_type": "code",
      "metadata": {
        "id": "3h1gDpjY2aKJ",
        "outputId": "b40338bd-4327-458d-df07-1df3b0587da5",
        "colab": {
          "base_uri": "https://localhost:8080/"
        }
      },
      "source": [
        "np.ndim(B)"
      ],
      "execution_count": 7,
      "outputs": [
        {
          "output_type": "execute_result",
          "data": {
            "text/plain": [
              "2"
            ]
          },
          "metadata": {
            "tags": []
          },
          "execution_count": 7
        }
      ]
    },
    {
      "cell_type": "code",
      "metadata": {
        "id": "dr_5EJkl2bKV",
        "outputId": "096d449c-e1bd-48d5-8d16-2c43ce5dfb37",
        "colab": {
          "base_uri": "https://localhost:8080/"
        }
      },
      "source": [
        "B.shape"
      ],
      "execution_count": 8,
      "outputs": [
        {
          "output_type": "execute_result",
          "data": {
            "text/plain": [
              "(3, 2)"
            ]
          },
          "metadata": {
            "tags": []
          },
          "execution_count": 8
        }
      ]
    },
    {
      "cell_type": "markdown",
      "metadata": {
        "id": "3rQRGuaZ3dsz"
      },
      "source": [
        "2x2 행렬간의 곱"
      ]
    },
    {
      "cell_type": "code",
      "metadata": {
        "id": "PvqXSOeb2cj1",
        "outputId": "71e92144-3684-4b50-8279-f7ce7ac24610",
        "colab": {
          "base_uri": "https://localhost:8080/"
        }
      },
      "source": [
        "A = np.array([[1,2],[3,4]])\n",
        "A.shape"
      ],
      "execution_count": 13,
      "outputs": [
        {
          "output_type": "execute_result",
          "data": {
            "text/plain": [
              "(2, 2)"
            ]
          },
          "metadata": {
            "tags": []
          },
          "execution_count": 13
        }
      ]
    },
    {
      "cell_type": "code",
      "metadata": {
        "id": "RLTfA7S22uEC",
        "outputId": "a8bab9bd-4b69-47b6-d4b4-23af23f1c68c",
        "colab": {
          "base_uri": "https://localhost:8080/"
        }
      },
      "source": [
        "B = np.array([[5,6],[7,8]]) \n",
        "B.shape"
      ],
      "execution_count": 14,
      "outputs": [
        {
          "output_type": "execute_result",
          "data": {
            "text/plain": [
              "(2, 2)"
            ]
          },
          "metadata": {
            "tags": []
          },
          "execution_count": 14
        }
      ]
    },
    {
      "cell_type": "code",
      "metadata": {
        "id": "Bi4bOP_E21rn",
        "outputId": "889e06ef-c08a-426c-a493-804c9c9e796f",
        "colab": {
          "base_uri": "https://localhost:8080/"
        }
      },
      "source": [
        "np.dot(A,B)"
      ],
      "execution_count": 15,
      "outputs": [
        {
          "output_type": "execute_result",
          "data": {
            "text/plain": [
              "array([[19, 22],\n",
              "       [43, 50]])"
            ]
          },
          "metadata": {
            "tags": []
          },
          "execution_count": 15
        }
      ]
    },
    {
      "cell_type": "code",
      "metadata": {
        "id": "p6jy6rVU27c0"
      },
      "source": [
        "# 행렬 곱 연산은 np.dot(A,B)로 ㅇㅇ"
      ],
      "execution_count": 16,
      "outputs": []
    },
    {
      "cell_type": "markdown",
      "metadata": {
        "id": "m85W0Jue3Znl"
      },
      "source": [
        "2x3 행렬과 3x2 행렬 곱"
      ]
    },
    {
      "cell_type": "code",
      "metadata": {
        "id": "PmmGzcix3EwJ",
        "outputId": "cb4e831e-893b-41da-8e3b-24d95f28315d",
        "colab": {
          "base_uri": "https://localhost:8080/"
        }
      },
      "source": [
        "A = np.array([[1,2,3],[4,5,6]])\n",
        "A.shape"
      ],
      "execution_count": 17,
      "outputs": [
        {
          "output_type": "execute_result",
          "data": {
            "text/plain": [
              "(2, 3)"
            ]
          },
          "metadata": {
            "tags": []
          },
          "execution_count": 17
        }
      ]
    },
    {
      "cell_type": "code",
      "metadata": {
        "id": "W7QAGT5s3QBu",
        "outputId": "e46baca3-9f47-4dff-b4a8-612103028461",
        "colab": {
          "base_uri": "https://localhost:8080/"
        }
      },
      "source": [
        "B = np.array([[1,2],[3,4],[5,6]])\n",
        "B.shape"
      ],
      "execution_count": 18,
      "outputs": [
        {
          "output_type": "execute_result",
          "data": {
            "text/plain": [
              "(3, 2)"
            ]
          },
          "metadata": {
            "tags": []
          },
          "execution_count": 18
        }
      ]
    },
    {
      "cell_type": "code",
      "metadata": {
        "id": "o9ma8qBV3U3r",
        "outputId": "7fc6cb41-e5df-42b8-98c8-acb5e219aedc",
        "colab": {
          "base_uri": "https://localhost:8080/"
        }
      },
      "source": [
        "np.dot(A,B)"
      ],
      "execution_count": 19,
      "outputs": [
        {
          "output_type": "execute_result",
          "data": {
            "text/plain": [
              "array([[22, 28],\n",
              "       [49, 64]])"
            ]
          },
          "metadata": {
            "tags": []
          },
          "execution_count": 19
        }
      ]
    },
    {
      "cell_type": "markdown",
      "metadata": {
        "id": "yMzzc1wl3qJJ"
      },
      "source": [
        "2x3 행렬과 2x2 행렬의 곱 // 크기가 맞지 않기 때문에 오류가 발생한다"
      ]
    },
    {
      "cell_type": "code",
      "metadata": {
        "id": "kPwKRS5z3W_j",
        "outputId": "32588b2e-88c8-40b9-ef90-a1b8a60aab40",
        "colab": {
          "base_uri": "https://localhost:8080/"
        }
      },
      "source": [
        "C = np.array([[1,2],[3,4]])\n",
        "C.shape"
      ],
      "execution_count": 20,
      "outputs": [
        {
          "output_type": "execute_result",
          "data": {
            "text/plain": [
              "(2, 2)"
            ]
          },
          "metadata": {
            "tags": []
          },
          "execution_count": 20
        }
      ]
    },
    {
      "cell_type": "code",
      "metadata": {
        "id": "oDOUpOgt30qG",
        "outputId": "4760456d-11a3-4d73-e509-7de381959391",
        "colab": {
          "base_uri": "https://localhost:8080/"
        }
      },
      "source": [
        "A.shape"
      ],
      "execution_count": 21,
      "outputs": [
        {
          "output_type": "execute_result",
          "data": {
            "text/plain": [
              "(2, 3)"
            ]
          },
          "metadata": {
            "tags": []
          },
          "execution_count": 21
        }
      ]
    },
    {
      "cell_type": "code",
      "metadata": {
        "id": "5YfnHRFc31sc",
        "outputId": "3edae4cb-37f8-41b3-a00f-3865ffec01b3",
        "colab": {
          "base_uri": "https://localhost:8080/",
          "height": 198
        }
      },
      "source": [
        "np.dot(A,C)"
      ],
      "execution_count": 22,
      "outputs": [
        {
          "output_type": "error",
          "ename": "ValueError",
          "evalue": "ignored",
          "traceback": [
            "\u001b[0;31m---------------------------------------------------------------------------\u001b[0m",
            "\u001b[0;31mValueError\u001b[0m                                Traceback (most recent call last)",
            "\u001b[0;32m<ipython-input-22-bef0a2d6fb5b>\u001b[0m in \u001b[0;36m<module>\u001b[0;34m()\u001b[0m\n\u001b[0;32m----> 1\u001b[0;31m \u001b[0mnp\u001b[0m\u001b[0;34m.\u001b[0m\u001b[0mdot\u001b[0m\u001b[0;34m(\u001b[0m\u001b[0mA\u001b[0m\u001b[0;34m,\u001b[0m\u001b[0mC\u001b[0m\u001b[0;34m)\u001b[0m\u001b[0;34m\u001b[0m\u001b[0;34m\u001b[0m\u001b[0m\n\u001b[0m",
            "\u001b[0;32m<__array_function__ internals>\u001b[0m in \u001b[0;36mdot\u001b[0;34m(*args, **kwargs)\u001b[0m\n",
            "\u001b[0;31mValueError\u001b[0m: shapes (2,3) and (2,2) not aligned: 3 (dim 1) != 2 (dim 0)"
          ]
        }
      ]
    },
    {
      "cell_type": "code",
      "metadata": {
        "id": "adgjPfqE33Rt",
        "outputId": "3f7bebe3-cf05-4f3a-c1ba-012446c62ab6",
        "colab": {
          "base_uri": "https://localhost:8080/"
        }
      },
      "source": [
        "## 참고로 두 행렬의 순서를 바꿔서 CxA를 할 경우 크기가 맞기 때문에 오류가 발생하지 않는다.\n",
        "np.dot(C,A)"
      ],
      "execution_count": 23,
      "outputs": [
        {
          "output_type": "execute_result",
          "data": {
            "text/plain": [
              "array([[ 9, 12, 15],\n",
              "       [19, 26, 33]])"
            ]
          },
          "metadata": {
            "tags": []
          },
          "execution_count": 23
        }
      ]
    },
    {
      "cell_type": "markdown",
      "metadata": {
        "id": "VBucQDb_4H1W"
      },
      "source": [
        "3x2 행렬과 2x1 행렬의 곱"
      ]
    },
    {
      "cell_type": "code",
      "metadata": {
        "id": "KF9U-QUW3_cy",
        "outputId": "132204e1-f0af-4d08-9bb0-e66e064b9dbf",
        "colab": {
          "base_uri": "https://localhost:8080/"
        }
      },
      "source": [
        "A = np.array([[1,2], [3,4], [5,6]])\n",
        "A.shape"
      ],
      "execution_count": 24,
      "outputs": [
        {
          "output_type": "execute_result",
          "data": {
            "text/plain": [
              "(3, 2)"
            ]
          },
          "metadata": {
            "tags": []
          },
          "execution_count": 24
        }
      ]
    },
    {
      "cell_type": "code",
      "metadata": {
        "id": "GhTkT4xg4Qsz",
        "outputId": "8d86fd43-4d30-4def-c216-1d0ce71bf8f1",
        "colab": {
          "base_uri": "https://localhost:8080/"
        }
      },
      "source": [
        "B = np.array([7,8])\n",
        "B.shape"
      ],
      "execution_count": 25,
      "outputs": [
        {
          "output_type": "execute_result",
          "data": {
            "text/plain": [
              "(2,)"
            ]
          },
          "metadata": {
            "tags": []
          },
          "execution_count": 25
        }
      ]
    },
    {
      "cell_type": "code",
      "metadata": {
        "id": "-9Y9Thgy4T1L",
        "outputId": "384a2277-dafb-4532-a867-6eb8ba78ce9a",
        "colab": {
          "base_uri": "https://localhost:8080/"
        }
      },
      "source": [
        "np.dot(A,B)"
      ],
      "execution_count": 26,
      "outputs": [
        {
          "output_type": "execute_result",
          "data": {
            "text/plain": [
              "array([23, 53, 83])"
            ]
          },
          "metadata": {
            "tags": []
          },
          "execution_count": 26
        }
      ]
    }
  ]
}